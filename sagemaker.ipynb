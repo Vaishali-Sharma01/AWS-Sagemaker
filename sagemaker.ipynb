{
 "cells": [
  {
   "cell_type": "code",
   "execution_count": 17,
   "id": "2c1ac531",
   "metadata": {},
   "outputs": [],
   "source": [
    "import sagemaker\n",
    "import boto3\n",
    "from sagemaker.amazon.amazon_estimator import image_uris \n",
    "from sagemaker.session import s3_input, Session\n",
    "import warnings\n",
    "warnings.filterwarnings('ignore')"
   ]
  },
  {
   "cell_type": "code",
   "execution_count": 18,
   "id": "86bd65da",
   "metadata": {},
   "outputs": [
    {
     "data": {
      "text/plain": [
       "'ap-south-1'"
      ]
     },
     "execution_count": 18,
     "metadata": {},
     "output_type": "execute_result"
    }
   ],
   "source": [
    "bucket_name=\"myproject--1\"\n",
    "bucket_region=boto3.session.Session().region_name\n",
    "bucket_region"
   ]
  },
  {
   "cell_type": "code",
   "execution_count": 19,
   "id": "dbbee144",
   "metadata": {},
   "outputs": [
    {
     "name": "stdout",
     "output_type": "stream",
     "text": [
      "s3 error : An error occurred (BucketAlreadyOwnedByYou) when calling the CreateBucket operation: Your previous request to create the named bucket succeeded and you already own it.\n"
     ]
    }
   ],
   "source": [
    "s3=boto3.resource('s3')\n",
    "try:\n",
    "    if bucket_region==\"ap-south-1\":\n",
    "        s3.create_bucket(Bucket=bucket_name,CreateBucketConfiguration={'LocationConstraint': bucket_region})\n",
    "    print(\"s3 bucket created successfully\")\n",
    "except Exception as e:\n",
    "    print(\"s3 error :\",e)\n",
    "    "
   ]
  },
  {
   "cell_type": "code",
   "execution_count": 20,
   "id": "f23e0c89",
   "metadata": {},
   "outputs": [
    {
     "name": "stdout",
     "output_type": "stream",
     "text": [
      "s3://myproject--1/xgboost-as-a-built-in-algo/output\n"
     ]
    }
   ],
   "source": [
    "prefix=\"xgboost-as-a-built-in-algo\"\n",
    "output_path=f\"s3://{bucket_name}/{prefix}/output\"\n",
    "print(output_path)"
   ]
  },
  {
   "cell_type": "markdown",
   "id": "2efb86b5",
   "metadata": {},
   "source": [
    "#### Downloading Data and Storing it in s3"
   ]
  },
  {
   "cell_type": "code",
   "execution_count": 21,
   "id": "a62e473a",
   "metadata": {},
   "outputs": [
    {
     "name": "stdout",
     "output_type": "stream",
     "text": [
      "Dataset downloaded successfully as data_clean.csv\n"
     ]
    }
   ],
   "source": [
    "import pandas as pd\n",
    "import urllib\n",
    "\n",
    "try:\n",
    "    urllib.request.urlretrieve(\"https://d1.awsstatic.com/tmt/build-train-deploy-machine-learning-model-sagemaker/bank_clean.27f01fbbdf43271788427f3682996ae29ceca05d.csv\",\"data_clean.csv\")\n",
    "    print(\"Dataset downloaded successfully as data_clean.csv\")\n",
    "    model_data=pd.read_csv(\"./data_clean.csv\",index_col=0)\n",
    "    \n",
    "except Exception as e:\n",
    "    print(\"Data Load error\",e)\n",
    "\n",
    "\n",
    "    "
   ]
  },
  {
   "cell_type": "code",
   "execution_count": 22,
   "id": "b4aee3fa",
   "metadata": {},
   "outputs": [
    {
     "data": {
      "text/html": [
       "<div>\n",
       "<style scoped>\n",
       "    .dataframe tbody tr th:only-of-type {\n",
       "        vertical-align: middle;\n",
       "    }\n",
       "\n",
       "    .dataframe tbody tr th {\n",
       "        vertical-align: top;\n",
       "    }\n",
       "\n",
       "    .dataframe thead th {\n",
       "        text-align: right;\n",
       "    }\n",
       "</style>\n",
       "<table border=\"1\" class=\"dataframe\">\n",
       "  <thead>\n",
       "    <tr style=\"text-align: right;\">\n",
       "      <th></th>\n",
       "      <th>age</th>\n",
       "      <th>campaign</th>\n",
       "      <th>pdays</th>\n",
       "      <th>previous</th>\n",
       "      <th>no_previous_contact</th>\n",
       "      <th>not_working</th>\n",
       "      <th>job_admin.</th>\n",
       "      <th>job_blue-collar</th>\n",
       "      <th>job_entrepreneur</th>\n",
       "      <th>job_housemaid</th>\n",
       "      <th>...</th>\n",
       "      <th>day_of_week_fri</th>\n",
       "      <th>day_of_week_mon</th>\n",
       "      <th>day_of_week_thu</th>\n",
       "      <th>day_of_week_tue</th>\n",
       "      <th>day_of_week_wed</th>\n",
       "      <th>poutcome_failure</th>\n",
       "      <th>poutcome_nonexistent</th>\n",
       "      <th>poutcome_success</th>\n",
       "      <th>y_no</th>\n",
       "      <th>y_yes</th>\n",
       "    </tr>\n",
       "  </thead>\n",
       "  <tbody>\n",
       "    <tr>\n",
       "      <th>0</th>\n",
       "      <td>56</td>\n",
       "      <td>1</td>\n",
       "      <td>999</td>\n",
       "      <td>0</td>\n",
       "      <td>1</td>\n",
       "      <td>0</td>\n",
       "      <td>0</td>\n",
       "      <td>0</td>\n",
       "      <td>0</td>\n",
       "      <td>1</td>\n",
       "      <td>...</td>\n",
       "      <td>0</td>\n",
       "      <td>1</td>\n",
       "      <td>0</td>\n",
       "      <td>0</td>\n",
       "      <td>0</td>\n",
       "      <td>0</td>\n",
       "      <td>1</td>\n",
       "      <td>0</td>\n",
       "      <td>1</td>\n",
       "      <td>0</td>\n",
       "    </tr>\n",
       "    <tr>\n",
       "      <th>1</th>\n",
       "      <td>57</td>\n",
       "      <td>1</td>\n",
       "      <td>999</td>\n",
       "      <td>0</td>\n",
       "      <td>1</td>\n",
       "      <td>0</td>\n",
       "      <td>0</td>\n",
       "      <td>0</td>\n",
       "      <td>0</td>\n",
       "      <td>0</td>\n",
       "      <td>...</td>\n",
       "      <td>0</td>\n",
       "      <td>1</td>\n",
       "      <td>0</td>\n",
       "      <td>0</td>\n",
       "      <td>0</td>\n",
       "      <td>0</td>\n",
       "      <td>1</td>\n",
       "      <td>0</td>\n",
       "      <td>1</td>\n",
       "      <td>0</td>\n",
       "    </tr>\n",
       "    <tr>\n",
       "      <th>2</th>\n",
       "      <td>37</td>\n",
       "      <td>1</td>\n",
       "      <td>999</td>\n",
       "      <td>0</td>\n",
       "      <td>1</td>\n",
       "      <td>0</td>\n",
       "      <td>0</td>\n",
       "      <td>0</td>\n",
       "      <td>0</td>\n",
       "      <td>0</td>\n",
       "      <td>...</td>\n",
       "      <td>0</td>\n",
       "      <td>1</td>\n",
       "      <td>0</td>\n",
       "      <td>0</td>\n",
       "      <td>0</td>\n",
       "      <td>0</td>\n",
       "      <td>1</td>\n",
       "      <td>0</td>\n",
       "      <td>1</td>\n",
       "      <td>0</td>\n",
       "    </tr>\n",
       "    <tr>\n",
       "      <th>3</th>\n",
       "      <td>40</td>\n",
       "      <td>1</td>\n",
       "      <td>999</td>\n",
       "      <td>0</td>\n",
       "      <td>1</td>\n",
       "      <td>0</td>\n",
       "      <td>1</td>\n",
       "      <td>0</td>\n",
       "      <td>0</td>\n",
       "      <td>0</td>\n",
       "      <td>...</td>\n",
       "      <td>0</td>\n",
       "      <td>1</td>\n",
       "      <td>0</td>\n",
       "      <td>0</td>\n",
       "      <td>0</td>\n",
       "      <td>0</td>\n",
       "      <td>1</td>\n",
       "      <td>0</td>\n",
       "      <td>1</td>\n",
       "      <td>0</td>\n",
       "    </tr>\n",
       "    <tr>\n",
       "      <th>4</th>\n",
       "      <td>56</td>\n",
       "      <td>1</td>\n",
       "      <td>999</td>\n",
       "      <td>0</td>\n",
       "      <td>1</td>\n",
       "      <td>0</td>\n",
       "      <td>0</td>\n",
       "      <td>0</td>\n",
       "      <td>0</td>\n",
       "      <td>0</td>\n",
       "      <td>...</td>\n",
       "      <td>0</td>\n",
       "      <td>1</td>\n",
       "      <td>0</td>\n",
       "      <td>0</td>\n",
       "      <td>0</td>\n",
       "      <td>0</td>\n",
       "      <td>1</td>\n",
       "      <td>0</td>\n",
       "      <td>1</td>\n",
       "      <td>0</td>\n",
       "    </tr>\n",
       "  </tbody>\n",
       "</table>\n",
       "<p>5 rows × 61 columns</p>\n",
       "</div>"
      ],
      "text/plain": [
       "   age  campaign  pdays  previous  no_previous_contact  not_working  \\\n",
       "0   56         1    999         0                    1            0   \n",
       "1   57         1    999         0                    1            0   \n",
       "2   37         1    999         0                    1            0   \n",
       "3   40         1    999         0                    1            0   \n",
       "4   56         1    999         0                    1            0   \n",
       "\n",
       "   job_admin.  job_blue-collar  job_entrepreneur  job_housemaid  ...  \\\n",
       "0           0                0                 0              1  ...   \n",
       "1           0                0                 0              0  ...   \n",
       "2           0                0                 0              0  ...   \n",
       "3           1                0                 0              0  ...   \n",
       "4           0                0                 0              0  ...   \n",
       "\n",
       "   day_of_week_fri  day_of_week_mon  day_of_week_thu  day_of_week_tue  \\\n",
       "0                0                1                0                0   \n",
       "1                0                1                0                0   \n",
       "2                0                1                0                0   \n",
       "3                0                1                0                0   \n",
       "4                0                1                0                0   \n",
       "\n",
       "   day_of_week_wed  poutcome_failure  poutcome_nonexistent  poutcome_success  \\\n",
       "0                0                 0                     1                 0   \n",
       "1                0                 0                     1                 0   \n",
       "2                0                 0                     1                 0   \n",
       "3                0                 0                     1                 0   \n",
       "4                0                 0                     1                 0   \n",
       "\n",
       "   y_no  y_yes  \n",
       "0     1      0  \n",
       "1     1      0  \n",
       "2     1      0  \n",
       "3     1      0  \n",
       "4     1      0  \n",
       "\n",
       "[5 rows x 61 columns]"
      ]
     },
     "execution_count": 22,
     "metadata": {},
     "output_type": "execute_result"
    }
   ],
   "source": [
    "model_data.head()"
   ]
  },
  {
   "cell_type": "code",
   "execution_count": 44,
   "id": "5474acf2",
   "metadata": {},
   "outputs": [
    {
     "name": "stdout",
     "output_type": "stream",
     "text": [
      "(28831, 61) (12357, 61)\n"
     ]
    }
   ],
   "source": [
    "## train test split\n",
    "import numpy as np\n",
    "train_data, test_data=np.split(model_data.sample(frac=1, random_state=101),[int(0.7*len(model_data))])\n",
    "print(train_data.shape,test_data.shape)"
   ]
  },
  {
   "cell_type": "code",
   "execution_count": 24,
   "id": "93c606dc",
   "metadata": {},
   "outputs": [
    {
     "data": {
      "text/html": [
       "<div>\n",
       "<style scoped>\n",
       "    .dataframe tbody tr th:only-of-type {\n",
       "        vertical-align: middle;\n",
       "    }\n",
       "\n",
       "    .dataframe tbody tr th {\n",
       "        vertical-align: top;\n",
       "    }\n",
       "\n",
       "    .dataframe thead th {\n",
       "        text-align: right;\n",
       "    }\n",
       "</style>\n",
       "<table border=\"1\" class=\"dataframe\">\n",
       "  <thead>\n",
       "    <tr style=\"text-align: right;\">\n",
       "      <th></th>\n",
       "      <th>age</th>\n",
       "      <th>campaign</th>\n",
       "      <th>pdays</th>\n",
       "      <th>previous</th>\n",
       "      <th>no_previous_contact</th>\n",
       "      <th>not_working</th>\n",
       "      <th>job_admin.</th>\n",
       "      <th>job_blue-collar</th>\n",
       "      <th>job_entrepreneur</th>\n",
       "      <th>job_housemaid</th>\n",
       "      <th>...</th>\n",
       "      <th>day_of_week_fri</th>\n",
       "      <th>day_of_week_mon</th>\n",
       "      <th>day_of_week_thu</th>\n",
       "      <th>day_of_week_tue</th>\n",
       "      <th>day_of_week_wed</th>\n",
       "      <th>poutcome_failure</th>\n",
       "      <th>poutcome_nonexistent</th>\n",
       "      <th>poutcome_success</th>\n",
       "      <th>y_no</th>\n",
       "      <th>y_yes</th>\n",
       "    </tr>\n",
       "  </thead>\n",
       "  <tbody>\n",
       "    <tr>\n",
       "      <th>28737</th>\n",
       "      <td>33</td>\n",
       "      <td>1</td>\n",
       "      <td>999</td>\n",
       "      <td>0</td>\n",
       "      <td>1</td>\n",
       "      <td>0</td>\n",
       "      <td>0</td>\n",
       "      <td>1</td>\n",
       "      <td>0</td>\n",
       "      <td>0</td>\n",
       "      <td>...</td>\n",
       "      <td>0</td>\n",
       "      <td>0</td>\n",
       "      <td>1</td>\n",
       "      <td>0</td>\n",
       "      <td>0</td>\n",
       "      <td>0</td>\n",
       "      <td>1</td>\n",
       "      <td>0</td>\n",
       "      <td>1</td>\n",
       "      <td>0</td>\n",
       "    </tr>\n",
       "    <tr>\n",
       "      <th>19323</th>\n",
       "      <td>46</td>\n",
       "      <td>2</td>\n",
       "      <td>999</td>\n",
       "      <td>0</td>\n",
       "      <td>1</td>\n",
       "      <td>0</td>\n",
       "      <td>0</td>\n",
       "      <td>1</td>\n",
       "      <td>0</td>\n",
       "      <td>0</td>\n",
       "      <td>...</td>\n",
       "      <td>0</td>\n",
       "      <td>0</td>\n",
       "      <td>0</td>\n",
       "      <td>0</td>\n",
       "      <td>1</td>\n",
       "      <td>0</td>\n",
       "      <td>1</td>\n",
       "      <td>0</td>\n",
       "      <td>0</td>\n",
       "      <td>1</td>\n",
       "    </tr>\n",
       "    <tr>\n",
       "      <th>34636</th>\n",
       "      <td>36</td>\n",
       "      <td>2</td>\n",
       "      <td>999</td>\n",
       "      <td>1</td>\n",
       "      <td>1</td>\n",
       "      <td>0</td>\n",
       "      <td>0</td>\n",
       "      <td>1</td>\n",
       "      <td>0</td>\n",
       "      <td>0</td>\n",
       "      <td>...</td>\n",
       "      <td>0</td>\n",
       "      <td>0</td>\n",
       "      <td>1</td>\n",
       "      <td>0</td>\n",
       "      <td>0</td>\n",
       "      <td>1</td>\n",
       "      <td>0</td>\n",
       "      <td>0</td>\n",
       "      <td>1</td>\n",
       "      <td>0</td>\n",
       "    </tr>\n",
       "    <tr>\n",
       "      <th>1651</th>\n",
       "      <td>31</td>\n",
       "      <td>1</td>\n",
       "      <td>999</td>\n",
       "      <td>0</td>\n",
       "      <td>1</td>\n",
       "      <td>0</td>\n",
       "      <td>0</td>\n",
       "      <td>1</td>\n",
       "      <td>0</td>\n",
       "      <td>0</td>\n",
       "      <td>...</td>\n",
       "      <td>1</td>\n",
       "      <td>0</td>\n",
       "      <td>0</td>\n",
       "      <td>0</td>\n",
       "      <td>0</td>\n",
       "      <td>0</td>\n",
       "      <td>1</td>\n",
       "      <td>0</td>\n",
       "      <td>1</td>\n",
       "      <td>0</td>\n",
       "    </tr>\n",
       "    <tr>\n",
       "      <th>23543</th>\n",
       "      <td>37</td>\n",
       "      <td>12</td>\n",
       "      <td>999</td>\n",
       "      <td>0</td>\n",
       "      <td>1</td>\n",
       "      <td>0</td>\n",
       "      <td>0</td>\n",
       "      <td>0</td>\n",
       "      <td>0</td>\n",
       "      <td>0</td>\n",
       "      <td>...</td>\n",
       "      <td>0</td>\n",
       "      <td>0</td>\n",
       "      <td>1</td>\n",
       "      <td>0</td>\n",
       "      <td>0</td>\n",
       "      <td>0</td>\n",
       "      <td>1</td>\n",
       "      <td>0</td>\n",
       "      <td>1</td>\n",
       "      <td>0</td>\n",
       "    </tr>\n",
       "    <tr>\n",
       "      <th>...</th>\n",
       "      <td>...</td>\n",
       "      <td>...</td>\n",
       "      <td>...</td>\n",
       "      <td>...</td>\n",
       "      <td>...</td>\n",
       "      <td>...</td>\n",
       "      <td>...</td>\n",
       "      <td>...</td>\n",
       "      <td>...</td>\n",
       "      <td>...</td>\n",
       "      <td>...</td>\n",
       "      <td>...</td>\n",
       "      <td>...</td>\n",
       "      <td>...</td>\n",
       "      <td>...</td>\n",
       "      <td>...</td>\n",
       "      <td>...</td>\n",
       "      <td>...</td>\n",
       "      <td>...</td>\n",
       "      <td>...</td>\n",
       "      <td>...</td>\n",
       "    </tr>\n",
       "    <tr>\n",
       "      <th>12363</th>\n",
       "      <td>30</td>\n",
       "      <td>2</td>\n",
       "      <td>999</td>\n",
       "      <td>0</td>\n",
       "      <td>1</td>\n",
       "      <td>0</td>\n",
       "      <td>0</td>\n",
       "      <td>0</td>\n",
       "      <td>0</td>\n",
       "      <td>0</td>\n",
       "      <td>...</td>\n",
       "      <td>1</td>\n",
       "      <td>0</td>\n",
       "      <td>0</td>\n",
       "      <td>0</td>\n",
       "      <td>0</td>\n",
       "      <td>0</td>\n",
       "      <td>1</td>\n",
       "      <td>0</td>\n",
       "      <td>1</td>\n",
       "      <td>0</td>\n",
       "    </tr>\n",
       "    <tr>\n",
       "      <th>5695</th>\n",
       "      <td>50</td>\n",
       "      <td>2</td>\n",
       "      <td>999</td>\n",
       "      <td>0</td>\n",
       "      <td>1</td>\n",
       "      <td>0</td>\n",
       "      <td>0</td>\n",
       "      <td>0</td>\n",
       "      <td>1</td>\n",
       "      <td>0</td>\n",
       "      <td>...</td>\n",
       "      <td>0</td>\n",
       "      <td>1</td>\n",
       "      <td>0</td>\n",
       "      <td>0</td>\n",
       "      <td>0</td>\n",
       "      <td>0</td>\n",
       "      <td>1</td>\n",
       "      <td>0</td>\n",
       "      <td>1</td>\n",
       "      <td>0</td>\n",
       "    </tr>\n",
       "    <tr>\n",
       "      <th>8006</th>\n",
       "      <td>35</td>\n",
       "      <td>2</td>\n",
       "      <td>999</td>\n",
       "      <td>0</td>\n",
       "      <td>1</td>\n",
       "      <td>0</td>\n",
       "      <td>0</td>\n",
       "      <td>0</td>\n",
       "      <td>0</td>\n",
       "      <td>0</td>\n",
       "      <td>...</td>\n",
       "      <td>0</td>\n",
       "      <td>1</td>\n",
       "      <td>0</td>\n",
       "      <td>0</td>\n",
       "      <td>0</td>\n",
       "      <td>0</td>\n",
       "      <td>1</td>\n",
       "      <td>0</td>\n",
       "      <td>1</td>\n",
       "      <td>0</td>\n",
       "    </tr>\n",
       "    <tr>\n",
       "      <th>17745</th>\n",
       "      <td>44</td>\n",
       "      <td>21</td>\n",
       "      <td>999</td>\n",
       "      <td>0</td>\n",
       "      <td>1</td>\n",
       "      <td>0</td>\n",
       "      <td>0</td>\n",
       "      <td>1</td>\n",
       "      <td>0</td>\n",
       "      <td>0</td>\n",
       "      <td>...</td>\n",
       "      <td>0</td>\n",
       "      <td>0</td>\n",
       "      <td>0</td>\n",
       "      <td>1</td>\n",
       "      <td>0</td>\n",
       "      <td>0</td>\n",
       "      <td>1</td>\n",
       "      <td>0</td>\n",
       "      <td>1</td>\n",
       "      <td>0</td>\n",
       "    </tr>\n",
       "    <tr>\n",
       "      <th>17931</th>\n",
       "      <td>39</td>\n",
       "      <td>5</td>\n",
       "      <td>999</td>\n",
       "      <td>0</td>\n",
       "      <td>1</td>\n",
       "      <td>0</td>\n",
       "      <td>0</td>\n",
       "      <td>1</td>\n",
       "      <td>0</td>\n",
       "      <td>0</td>\n",
       "      <td>...</td>\n",
       "      <td>0</td>\n",
       "      <td>0</td>\n",
       "      <td>0</td>\n",
       "      <td>1</td>\n",
       "      <td>0</td>\n",
       "      <td>0</td>\n",
       "      <td>1</td>\n",
       "      <td>0</td>\n",
       "      <td>1</td>\n",
       "      <td>0</td>\n",
       "    </tr>\n",
       "  </tbody>\n",
       "</table>\n",
       "<p>12357 rows × 61 columns</p>\n",
       "</div>"
      ],
      "text/plain": [
       "       age  campaign  pdays  previous  no_previous_contact  not_working  \\\n",
       "28737   33         1    999         0                    1            0   \n",
       "19323   46         2    999         0                    1            0   \n",
       "34636   36         2    999         1                    1            0   \n",
       "1651    31         1    999         0                    1            0   \n",
       "23543   37        12    999         0                    1            0   \n",
       "...    ...       ...    ...       ...                  ...          ...   \n",
       "12363   30         2    999         0                    1            0   \n",
       "5695    50         2    999         0                    1            0   \n",
       "8006    35         2    999         0                    1            0   \n",
       "17745   44        21    999         0                    1            0   \n",
       "17931   39         5    999         0                    1            0   \n",
       "\n",
       "       job_admin.  job_blue-collar  job_entrepreneur  job_housemaid  ...  \\\n",
       "28737           0                1                 0              0  ...   \n",
       "19323           0                1                 0              0  ...   \n",
       "34636           0                1                 0              0  ...   \n",
       "1651            0                1                 0              0  ...   \n",
       "23543           0                0                 0              0  ...   \n",
       "...           ...              ...               ...            ...  ...   \n",
       "12363           0                0                 0              0  ...   \n",
       "5695            0                0                 1              0  ...   \n",
       "8006            0                0                 0              0  ...   \n",
       "17745           0                1                 0              0  ...   \n",
       "17931           0                1                 0              0  ...   \n",
       "\n",
       "       day_of_week_fri  day_of_week_mon  day_of_week_thu  day_of_week_tue  \\\n",
       "28737                0                0                1                0   \n",
       "19323                0                0                0                0   \n",
       "34636                0                0                1                0   \n",
       "1651                 1                0                0                0   \n",
       "23543                0                0                1                0   \n",
       "...                ...              ...              ...              ...   \n",
       "12363                1                0                0                0   \n",
       "5695                 0                1                0                0   \n",
       "8006                 0                1                0                0   \n",
       "17745                0                0                0                1   \n",
       "17931                0                0                0                1   \n",
       "\n",
       "       day_of_week_wed  poutcome_failure  poutcome_nonexistent  \\\n",
       "28737                0                 0                     1   \n",
       "19323                1                 0                     1   \n",
       "34636                0                 1                     0   \n",
       "1651                 0                 0                     1   \n",
       "23543                0                 0                     1   \n",
       "...                ...               ...                   ...   \n",
       "12363                0                 0                     1   \n",
       "5695                 0                 0                     1   \n",
       "8006                 0                 0                     1   \n",
       "17745                0                 0                     1   \n",
       "17931                0                 0                     1   \n",
       "\n",
       "       poutcome_success  y_no  y_yes  \n",
       "28737                 0     1      0  \n",
       "19323                 0     0      1  \n",
       "34636                 0     1      0  \n",
       "1651                  0     1      0  \n",
       "23543                 0     1      0  \n",
       "...                 ...   ...    ...  \n",
       "12363                 0     1      0  \n",
       "5695                  0     1      0  \n",
       "8006                  0     1      0  \n",
       "17745                 0     1      0  \n",
       "17931                 0     1      0  \n",
       "\n",
       "[12357 rows x 61 columns]"
      ]
     },
     "execution_count": 24,
     "metadata": {},
     "output_type": "execute_result"
    }
   ],
   "source": [
    "test_data"
   ]
  },
  {
   "cell_type": "code",
   "execution_count": 25,
   "id": "238d2b0b",
   "metadata": {},
   "outputs": [],
   "source": [
    "### Saving Train And Test Into Buckets\n",
    "## In sagemaker, dataset format is to keep target column as first column in dataset\n",
    "import os\n",
    "pd.concat([train_data['y_yes'],train_data.drop(['y_no','y_yes'], axis=1)],axis=1).to_csv('train.csv',index=False,header=False)\n",
    "boto3.Session().resource('s3').Bucket(bucket_name).Object(os.path.join(prefix, 'train/train.csv')).upload_file('train.csv')"
   ]
  },
  {
   "cell_type": "code",
   "execution_count": 26,
   "id": "3c7234c6",
   "metadata": {},
   "outputs": [
    {
     "data": {
      "text/plain": [
       "<sagemaker.inputs.TrainingInput at 0x7f229542e110>"
      ]
     },
     "execution_count": 26,
     "metadata": {},
     "output_type": "execute_result"
    }
   ],
   "source": [
    "s3_input_train = sagemaker.TrainingInput(s3_data=f\"s3://{bucket_name}/{prefix}/train\", content_type='csv')\n",
    "s3_input_train"
   ]
  },
  {
   "cell_type": "code",
   "execution_count": 27,
   "id": "eef75ec1",
   "metadata": {},
   "outputs": [],
   "source": [
    "pd.concat([test_data['y_yes'], test_data.drop(['y_no', 'y_yes'], axis=1)], axis=1).to_csv('test.csv', index=False, header=False)\n",
    "boto3.Session().resource('s3').Bucket(bucket_name).Object(os.path.join(prefix, 'test/test.csv')).upload_file('test.csv')\n",
    "s3_input_test = sagemaker.TrainingInput(s3_data='s3://{}/{}/test'.format(bucket_name, prefix), content_type='csv')"
   ]
  },
  {
   "cell_type": "markdown",
   "id": "e697b3c4",
   "metadata": {},
   "source": [
    "#### Building and Training Model"
   ]
  },
  {
   "cell_type": "code",
   "execution_count": 28,
   "id": "b5076583",
   "metadata": {},
   "outputs": [],
   "source": [
    "container=image_uris.get_training_image_uri(boto3.Session().region_name,\n",
    "                       framework=' ',\n",
    "                       framework_version='1.7-1'\n",
    "                       )"
   ]
  },
  {
   "cell_type": "code",
   "execution_count": 29,
   "id": "6de1ce76",
   "metadata": {},
   "outputs": [
    {
     "data": {
      "text/plain": [
       "'720646828776.dkr.ecr.ap-south-1.amazonaws.com/sagemaker-xgboost:1.7-1'"
      ]
     },
     "execution_count": 29,
     "metadata": {},
     "output_type": "execute_result"
    }
   ],
   "source": [
    "container"
   ]
  },
  {
   "cell_type": "code",
   "execution_count": 30,
   "id": "81ef29f8",
   "metadata": {},
   "outputs": [],
   "source": [
    "# initialize hyperparameters\n",
    "hyperparameters = {\n",
    "        \"max_depth\":\"5\",\n",
    "        \"eta\":\"0.2\",\n",
    "        \"gamma\":\"4\",\n",
    "        \"min_child_weight\":\"6\",\n",
    "        \"subsample\":\"0.7\",\n",
    "        \"objective\":\"binary:logistic\",\n",
    "        \"num_round\":50\n",
    "        }"
   ]
  },
  {
   "cell_type": "code",
   "execution_count": 32,
   "id": "d8a5a4f3",
   "metadata": {},
   "outputs": [
    {
     "name": "stdout",
     "output_type": "stream",
     "text": [
      "sagemaker.config INFO - Not applying SDK defaults from location: /etc/xdg/sagemaker/config.yaml\n",
      "sagemaker.config INFO - Not applying SDK defaults from location: /home/ec2-user/.config/sagemaker/config.yaml\n",
      "sagemaker.config INFO - Not applying SDK defaults from location: /etc/xdg/sagemaker/config.yaml\n",
      "sagemaker.config INFO - Not applying SDK defaults from location: /home/ec2-user/.config/sagemaker/config.yaml\n"
     ]
    }
   ],
   "source": [
    " ##construct a SageMaker estimator that calls the xgboost-container\n",
    "estimator = sagemaker.estimator.Estimator(image_uri=container, \n",
    "                                          hyperparameters=hyperparameters,\n",
    "                                          role=sagemaker.get_execution_role(),\n",
    "                                          instance_count=1, \n",
    "                                          instance_type='ml.m5.2xlarge', \n",
    "                                          volume_size=5, # 5 GB \n",
    "                                          output_path=output_path,\n",
    "                                          use_spot_instances=True,\n",
    "                                          max_run=300,\n",
    "                                          max_wait=600)"
   ]
  },
  {
   "cell_type": "code",
   "execution_count": 33,
   "id": "ca7abefb",
   "metadata": {},
   "outputs": [
    {
     "name": "stderr",
     "output_type": "stream",
     "text": [
      "INFO:sagemaker:Creating training-job with name: sagemaker-xgboost-2023-12-03-18-21-19-840\n"
     ]
    },
    {
     "name": "stdout",
     "output_type": "stream",
     "text": [
      "2023-12-03 18:21:19 Starting - Starting the training job...\n",
      "2023-12-03 18:21:33 Starting - Preparing the instances for training......\n",
      "2023-12-03 18:22:47 Downloading - Downloading input data...\n",
      "2023-12-03 18:23:07 Training - Downloading the training image......\n",
      "2023-12-03 18:24:18 Uploading - Uploading generated training model\u001b[34m[2023-12-03 18:24:13.695 ip-10-0-102-245.ap-south-1.compute.internal:7 INFO utils.py:28] RULE_JOB_STOP_SIGNAL_FILENAME: None\u001b[0m\n",
      "\u001b[34m[2023-12-03 18:24:13.717 ip-10-0-102-245.ap-south-1.compute.internal:7 INFO profiler_config_parser.py:111] User has disabled profiler.\u001b[0m\n",
      "\u001b[34m[2023-12-03:18:24:14:INFO] Imported framework sagemaker_xgboost_container.training\u001b[0m\n",
      "\u001b[34m[2023-12-03:18:24:14:INFO] Failed to parse hyperparameter objective value binary:logistic to Json.\u001b[0m\n",
      "\u001b[34mReturning the value itself\u001b[0m\n",
      "\u001b[34m[2023-12-03:18:24:14:INFO] No GPUs detected (normal if no gpus installed)\u001b[0m\n",
      "\u001b[34m[2023-12-03:18:24:14:INFO] Running XGBoost Sagemaker in algorithm mode\u001b[0m\n",
      "\u001b[34m[2023-12-03:18:24:14:INFO] Determined 0 GPU(s) available on the instance.\u001b[0m\n",
      "\u001b[34m[2023-12-03:18:24:14:INFO] Determined delimiter of CSV input is ','\u001b[0m\n",
      "\u001b[34m[2023-12-03:18:24:14:INFO] Determined delimiter of CSV input is ','\u001b[0m\n",
      "\u001b[34m[2023-12-03:18:24:14:INFO] File path /opt/ml/input/data/train of input files\u001b[0m\n",
      "\u001b[34m[2023-12-03:18:24:14:INFO] Making smlinks from folder /opt/ml/input/data/train to folder /tmp/sagemaker_xgboost_input_data\u001b[0m\n",
      "\u001b[34m[2023-12-03:18:24:14:INFO] creating symlink between Path /opt/ml/input/data/train/train.csv and destination /tmp/sagemaker_xgboost_input_data/train.csv3169368369897493793\u001b[0m\n",
      "\u001b[34m[2023-12-03:18:24:14:INFO] files path: /tmp/sagemaker_xgboost_input_data\u001b[0m\n",
      "\u001b[34m[2023-12-03:18:24:14:INFO] Determined delimiter of CSV input is ','\u001b[0m\n",
      "\u001b[34m[2023-12-03:18:24:14:INFO] File path /opt/ml/input/data/validation of input files\u001b[0m\n",
      "\u001b[34m[2023-12-03:18:24:14:INFO] Making smlinks from folder /opt/ml/input/data/validation to folder /tmp/sagemaker_xgboost_input_data\u001b[0m\n",
      "\u001b[34m[2023-12-03:18:24:14:INFO] creating symlink between Path /opt/ml/input/data/validation/test.csv and destination /tmp/sagemaker_xgboost_input_data/test.csv1803713284633289595\u001b[0m\n",
      "\u001b[34m[2023-12-03:18:24:14:INFO] files path: /tmp/sagemaker_xgboost_input_data\u001b[0m\n",
      "\u001b[34m[2023-12-03:18:24:14:INFO] Determined delimiter of CSV input is ','\u001b[0m\n",
      "\u001b[34m[2023-12-03:18:24:14:INFO] Single node training.\u001b[0m\n",
      "\u001b[34m[2023-12-03:18:24:14:INFO] Train matrix has 28831 rows and 59 columns\u001b[0m\n",
      "\u001b[34m[2023-12-03:18:24:14:INFO] Validation matrix has 12357 rows\u001b[0m\n",
      "\u001b[34m[2023-12-03 18:24:14.236 ip-10-0-102-245.ap-south-1.compute.internal:7 INFO json_config.py:92] Creating hook from json_config at /opt/ml/input/config/debughookconfig.json.\u001b[0m\n",
      "\u001b[34m[2023-12-03 18:24:14.236 ip-10-0-102-245.ap-south-1.compute.internal:7 INFO hook.py:206] tensorboard_dir has not been set for the hook. SMDebug will not be exporting tensorboard summaries.\u001b[0m\n",
      "\u001b[34m[2023-12-03 18:24:14.237 ip-10-0-102-245.ap-south-1.compute.internal:7 INFO hook.py:259] Saving to /opt/ml/output/tensors\u001b[0m\n",
      "\u001b[34m[2023-12-03 18:24:14.237 ip-10-0-102-245.ap-south-1.compute.internal:7 INFO state_store.py:77] The checkpoint config file /opt/ml/input/config/checkpointconfig.json does not exist.\u001b[0m\n",
      "\u001b[34m[2023-12-03:18:24:14:INFO] Debug hook created from config\u001b[0m\n",
      "\u001b[34m[2023-12-03 18:24:14.340 ip-10-0-102-245.ap-south-1.compute.internal:7 INFO hook.py:427] Monitoring the collections: metrics\u001b[0m\n",
      "\u001b[34m[2023-12-03 18:24:14.345 ip-10-0-102-245.ap-south-1.compute.internal:7 INFO hook.py:491] Hook is writing from the hook with pid: 7\u001b[0m\n",
      "\u001b[34m[0]#011train-logloss:0.57314#011validation-logloss:0.57467\u001b[0m\n",
      "\u001b[34m[1]#011train-logloss:0.49331#011validation-logloss:0.49633\u001b[0m\n",
      "\u001b[34m[2]#011train-logloss:0.43718#011validation-logloss:0.44091\u001b[0m\n",
      "\u001b[34m[3]#011train-logloss:0.39734#011validation-logloss:0.40172\u001b[0m\n",
      "\u001b[34m[4]#011train-logloss:0.36831#011validation-logloss:0.37308\u001b[0m\n",
      "\u001b[34m[5]#011train-logloss:0.34662#011validation-logloss:0.35181\u001b[0m\n",
      "\u001b[34m[6]#011train-logloss:0.33069#011validation-logloss:0.33664\u001b[0m\n",
      "\u001b[34m[7]#011train-logloss:0.31887#011validation-logloss:0.32535\u001b[0m\n",
      "\u001b[34m[8]#011train-logloss:0.31023#011validation-logloss:0.31707\u001b[0m\n",
      "\u001b[34m[9]#011train-logloss:0.30371#011validation-logloss:0.31067\u001b[0m\n",
      "\u001b[34m[10]#011train-logloss:0.29877#011validation-logloss:0.30611\u001b[0m\n",
      "\u001b[34m[11]#011train-logloss:0.29486#011validation-logloss:0.30285\u001b[0m\n",
      "\u001b[34m[12]#011train-logloss:0.29186#011validation-logloss:0.30006\u001b[0m\n",
      "\u001b[34m[13]#011train-logloss:0.28940#011validation-logloss:0.29801\u001b[0m\n",
      "\u001b[34m[14]#011train-logloss:0.28782#011validation-logloss:0.29673\u001b[0m\n",
      "\u001b[34m[15]#011train-logloss:0.28595#011validation-logloss:0.29532\u001b[0m\n",
      "\u001b[34m[16]#011train-logloss:0.28463#011validation-logloss:0.29412\u001b[0m\n",
      "\u001b[34m[17]#011train-logloss:0.28348#011validation-logloss:0.29323\u001b[0m\n",
      "\u001b[34m[18]#011train-logloss:0.28277#011validation-logloss:0.29262\u001b[0m\n",
      "\u001b[34m[19]#011train-logloss:0.28185#011validation-logloss:0.29186\u001b[0m\n",
      "\u001b[34m[20]#011train-logloss:0.28128#011validation-logloss:0.29146\u001b[0m\n",
      "\u001b[34m[21]#011train-logloss:0.28072#011validation-logloss:0.29113\u001b[0m\n",
      "\u001b[34m[22]#011train-logloss:0.28004#011validation-logloss:0.29118\u001b[0m\n",
      "\u001b[34m[23]#011train-logloss:0.27934#011validation-logloss:0.29099\u001b[0m\n",
      "\u001b[34m[24]#011train-logloss:0.27906#011validation-logloss:0.29092\u001b[0m\n",
      "\u001b[34m[25]#011train-logloss:0.27863#011validation-logloss:0.29045\u001b[0m\n",
      "\u001b[34m[26]#011train-logloss:0.27834#011validation-logloss:0.29031\u001b[0m\n",
      "\u001b[34m[27]#011train-logloss:0.27809#011validation-logloss:0.29030\u001b[0m\n",
      "\u001b[34m[28]#011train-logloss:0.27779#011validation-logloss:0.29017\u001b[0m\n",
      "\u001b[34m[29]#011train-logloss:0.27746#011validation-logloss:0.29003\u001b[0m\n",
      "\u001b[34m[30]#011train-logloss:0.27698#011validation-logloss:0.28979\u001b[0m\n",
      "\u001b[34m[31]#011train-logloss:0.27675#011validation-logloss:0.28962\u001b[0m\n",
      "\u001b[34m[32]#011train-logloss:0.27629#011validation-logloss:0.28970\u001b[0m\n",
      "\u001b[34m[33]#011train-logloss:0.27613#011validation-logloss:0.28977\u001b[0m\n",
      "\u001b[34m[34]#011train-logloss:0.27597#011validation-logloss:0.28962\u001b[0m\n",
      "\u001b[34m[35]#011train-logloss:0.27573#011validation-logloss:0.28953\u001b[0m\n",
      "\u001b[34m[36]#011train-logloss:0.27560#011validation-logloss:0.28955\u001b[0m\n",
      "\u001b[34m[37]#011train-logloss:0.27560#011validation-logloss:0.28955\u001b[0m\n",
      "\u001b[34m[38]#011train-logloss:0.27539#011validation-logloss:0.28965\u001b[0m\n",
      "\u001b[34m[39]#011train-logloss:0.27506#011validation-logloss:0.28948\u001b[0m\n",
      "\u001b[34m[40]#011train-logloss:0.27422#011validation-logloss:0.28905\u001b[0m\n",
      "\u001b[34m[41]#011train-logloss:0.27416#011validation-logloss:0.28905\u001b[0m\n",
      "\u001b[34m[42]#011train-logloss:0.27393#011validation-logloss:0.28903\u001b[0m\n",
      "\u001b[34m[43]#011train-logloss:0.27383#011validation-logloss:0.28911\u001b[0m\n",
      "\u001b[34m[44]#011train-logloss:0.27358#011validation-logloss:0.28911\u001b[0m\n",
      "\u001b[34m[45]#011train-logloss:0.27334#011validation-logloss:0.28929\u001b[0m\n",
      "\u001b[34m[46]#011train-logloss:0.27305#011validation-logloss:0.28937\u001b[0m\n",
      "\u001b[34m[47]#011train-logloss:0.27290#011validation-logloss:0.28945\u001b[0m\n",
      "\u001b[34m[48]#011train-logloss:0.27267#011validation-logloss:0.28935\u001b[0m\n",
      "\u001b[34m[49]#011train-logloss:0.27245#011validation-logloss:0.28935\u001b[0m\n",
      "\n",
      "2023-12-03 18:24:29 Completed - Training job completed\n",
      "Training seconds: 102\n",
      "Billable seconds: 39\n",
      "Managed Spot Training savings: 61.8%\n"
     ]
    }
   ],
   "source": [
    "estimator.fit({'train':s3_input_train,'validation':s3_input_test})"
   ]
  },
  {
   "cell_type": "markdown",
   "id": "79ca0f1a",
   "metadata": {},
   "source": [
    "#### Deploy ML model"
   ]
  },
  {
   "cell_type": "code",
   "execution_count": 34,
   "id": "a5a92c3b",
   "metadata": {},
   "outputs": [
    {
     "name": "stderr",
     "output_type": "stream",
     "text": [
      "INFO:sagemaker:Creating model with name: sagemaker-xgboost-2023-12-03-18-35-42-071\n",
      "INFO:sagemaker:Creating endpoint-config with name sagemaker-xgboost-2023-12-03-18-35-42-071\n",
      "INFO:sagemaker:Creating endpoint with name sagemaker-xgboost-2023-12-03-18-35-42-071\n"
     ]
    },
    {
     "name": "stdout",
     "output_type": "stream",
     "text": [
      "------!"
     ]
    }
   ],
   "source": [
    "xgb_predictor=estimator.deploy(initial_instance_count=1, instance_type='ml.m4.xlarge')"
   ]
  },
  {
   "cell_type": "markdown",
   "id": "0b93b583",
   "metadata": {},
   "source": [
    "#### Predicting test data"
   ]
  },
  {
   "cell_type": "code",
   "execution_count": 70,
   "id": "208aea40",
   "metadata": {},
   "outputs": [
    {
     "name": "stdout",
     "output_type": "stream",
     "text": [
      "(12357,)\n"
     ]
    }
   ],
   "source": [
    "from sagemaker.serializers import CSVSerializer\n",
    "test_data_array = test_data.drop(['y_no', 'y_yes'], axis=1).values #load the data into an array\n",
    "xgb_predictor.content_type = 'text/csv'\n",
    "xgb_predictor.serializer = CSVSerializer()\n",
    "predictions=xgb_predictor.predict(test_data_array).decode('utf-8')\n",
    "predictions_array = np.fromstring(predictions[1:], sep='\\n') # and turn the prediction into an array\n",
    "print(predictions_array.shape)"
   ]
  },
  {
   "cell_type": "code",
   "execution_count": 69,
   "id": "0f299402",
   "metadata": {},
   "outputs": [
    {
     "data": {
      "text/plain": [
       "array([0.10204415, 0.07383633, 0.06221998, ..., 0.03871584, 0.01569422,\n",
       "       0.07269247])"
      ]
     },
     "execution_count": 69,
     "metadata": {},
     "output_type": "execute_result"
    }
   ],
   "source": [
    "predictions_array"
   ]
  },
  {
   "cell_type": "code",
   "execution_count": 71,
   "id": "1c1a952a",
   "metadata": {},
   "outputs": [
    {
     "data": {
      "text/plain": [
       "array([0.10204415, 0.07383633, 0.06221998, ..., 0.03871584, 0.01569422,\n",
       "       0.07269247])"
      ]
     },
     "execution_count": 71,
     "metadata": {},
     "output_type": "execute_result"
    }
   ],
   "source": [
    "predictions_array"
   ]
  },
  {
   "cell_type": "code",
   "execution_count": 73,
   "id": "e927cb56",
   "metadata": {},
   "outputs": [
    {
     "name": "stdout",
     "output_type": "stream",
     "text": [
      "\n",
      "Overall Classification Rate: 89.5%\n",
      "\n",
      "Predicted      No Purchase    Purchase\n",
      "Observed\n",
      "No Purchase    90% (10763)    35% (161)\n",
      "Purchase        10% (1133)     65% (300) \n",
      "\n"
     ]
    }
   ],
   "source": [
    "cm = pd.crosstab(index=test_data['y_yes'], columns=np.round(predictions_array), rownames=['Observed'], colnames=['Predicted'])\n",
    "tn = cm.iloc[0,0]; fn = cm.iloc[1,0]; tp = cm.iloc[1,1]; fp = cm.iloc[0,1]; p = (tp+tn)/(tp+tn+fp+fn)*100\n",
    "print(\"\\n{0:<20}{1:<4.1f}%\\n\".format(\"Overall Classification Rate: \", p))\n",
    "print(\"{0:<15}{1:<15}{2:>8}\".format(\"Predicted\", \"No Purchase\", \"Purchase\"))\n",
    "print(\"Observed\")\n",
    "print(\"{0:<15}{1:<2.0f}% ({2:<}){3:>6.0f}% ({4:<})\".format(\"No Purchase\", tn/(tn+fn)*100,tn, fp/(tp+fp)*100, fp))\n",
    "print(\"{0:<16}{1:<1.0f}% ({2:<}){3:>7.0f}% ({4:<}) \\n\".format(\"Purchase\", fn/(tn+fn)*100,fn, tp/(tp+fp)*100, tp))"
   ]
  },
  {
   "cell_type": "markdown",
   "id": "7698d3ee",
   "metadata": {},
   "source": [
    "#### Deleting endpoints"
   ]
  },
  {
   "cell_type": "code",
   "execution_count": 74,
   "id": "3048ffdb",
   "metadata": {},
   "outputs": [
    {
     "name": "stdout",
     "output_type": "stream",
     "text": [
      "sagemaker.config INFO - Not applying SDK defaults from location: /etc/xdg/sagemaker/config.yaml\n",
      "sagemaker.config INFO - Not applying SDK defaults from location: /home/ec2-user/.config/sagemaker/config.yaml\n"
     ]
    },
    {
     "name": "stderr",
     "output_type": "stream",
     "text": [
      "WARNING:sagemaker.deprecations:The endpoint attribute has been renamed in sagemaker>=2.\n",
      "See: https://sagemaker.readthedocs.io/en/stable/v2.html for details.\n",
      "INFO:sagemaker:Deleting endpoint with name: sagemaker-xgboost-2023-12-03-18-35-42-071\n"
     ]
    },
    {
     "data": {
      "text/plain": [
       "[{'ResponseMetadata': {'RequestId': 'JVDC7HZ3SDSZ2BTV',\n",
       "   'HostId': 'IDoD1XFkkIGLhHA/ACsT9FSDZy4tNYcW9ETs7TcmILmkoAGNegj5MhpkN7qOBNhOwj5TbPJG8WU=',\n",
       "   'HTTPStatusCode': 200,\n",
       "   'HTTPHeaders': {'x-amz-id-2': 'IDoD1XFkkIGLhHA/ACsT9FSDZy4tNYcW9ETs7TcmILmkoAGNegj5MhpkN7qOBNhOwj5TbPJG8WU=',\n",
       "    'x-amz-request-id': 'JVDC7HZ3SDSZ2BTV',\n",
       "    'date': 'Sun, 03 Dec 2023 19:23:06 GMT',\n",
       "    'content-type': 'application/xml',\n",
       "    'transfer-encoding': 'chunked',\n",
       "    'server': 'AmazonS3',\n",
       "    'connection': 'close'},\n",
       "   'RetryAttempts': 0},\n",
       "  'Deleted': [{'Key': 'xgboost-as-a-built-in-algo/output/sagemaker-xgboost-2023-12-03-18-21-19-840/debug-output/events/000000000020/000000000020_worker_0.tfevents'},\n",
       "   {'Key': 'xgboost-as-a-built-in-algo/output/sagemaker-xgboost-2023-12-03-18-21-19-840/output/model.tar.gz'},\n",
       "   {'Key': 'xgboost-as-a-built-in-algo/output/sagemaker-xgboost-2023-12-03-18-21-19-840/debug-output/index/000000000/000000000020_worker_0.json'},\n",
       "   {'Key': 'xgboost-as-a-built-in-algo/output/sagemaker-xgboost-2023-12-03-18-21-19-840/debug-output/claim.smd'},\n",
       "   {'Key': 'xgboost-as-a-built-in-algo/output/sagemaker-xgboost-2023-12-03-18-21-19-840/debug-output/events/000000000030/000000000030_worker_0.tfevents'},\n",
       "   {'Key': 'xgboost-as-a-built-in-algo/output/sagemaker-xgboost-2023-12-03-18-21-19-840/profiler-output/system/incremental/2023120318/1701627780.algo-1.json'},\n",
       "   {'Key': 'xgboost-as-a-built-in-algo/test/test.csv'},\n",
       "   {'Key': 'xgboost-as-a-built-in-algo/output/sagemaker-xgboost-2023-12-03-18-21-19-840/debug-output/collections/000000000/worker_0_collections.json'},\n",
       "   {'Key': 'xgboost-as-a-built-in-algo/output/sagemaker-xgboost-2023-12-03-18-21-19-840/debug-output/index/000000000/000000000000_worker_0.json'},\n",
       "   {'Key': 'xgboost-as-a-built-in-algo/output/sagemaker-xgboost-2023-12-03-18-21-19-840/profiler-output/system/training_job_end.ts'},\n",
       "   {'Key': 'xgboost-as-a-built-in-algo/output/sagemaker-xgboost-2023-12-03-18-21-19-840/debug-output/training_job_end.ts'},\n",
       "   {'Key': 'xgboost-as-a-built-in-algo/output/sagemaker-xgboost-2023-12-03-18-21-19-840/debug-output/index/000000000/000000000030_worker_0.json'},\n",
       "   {'Key': 'xgboost-as-a-built-in-algo/output/sagemaker-xgboost-2023-12-03-18-21-19-840/profiler-output/framework/training_job_end.ts'},\n",
       "   {'Key': 'xgboost-as-a-built-in-algo/output/sagemaker-xgboost-2023-12-03-18-21-19-840/profiler-output/system/incremental/2023120318/1701627840.algo-1.json'},\n",
       "   {'Key': 'xgboost-as-a-built-in-algo/output/sagemaker-xgboost-2023-12-03-18-21-19-840/debug-output/events/000000000000/000000000000_worker_0.tfevents'},\n",
       "   {'Key': 'xgboost-as-a-built-in-algo/output/sagemaker-xgboost-2023-12-03-18-21-19-840/debug-output/events/000000000010/000000000010_worker_0.tfevents'},\n",
       "   {'Key': 'xgboost-as-a-built-in-algo/output/sagemaker-xgboost-2023-12-03-18-21-19-840/debug-output/events/000000000040/000000000040_worker_0.tfevents'},\n",
       "   {'Key': 'xgboost-as-a-built-in-algo/output/sagemaker-xgboost-2023-12-03-18-21-19-840/debug-output/index/000000000/000000000010_worker_0.json'},\n",
       "   {'Key': 'xgboost-as-a-built-in-algo/train/train.csv'},\n",
       "   {'Key': 'xgboost-as-a-built-in-algo/output/sagemaker-xgboost-2023-12-03-18-21-19-840/debug-output/index/000000000/000000000040_worker_0.json'},\n",
       "   {'Key': 'xgboost-as-a-built-in-algo/output/sagemaker-xgboost-2023-12-03-18-21-19-840/profiler-output/system/incremental/2023120318/1701627720.algo-1.json'}]}]"
      ]
     },
     "execution_count": 74,
     "metadata": {},
     "output_type": "execute_result"
    }
   ],
   "source": [
    "sagemaker.Session().delete_endpoint(xgb_predictor.endpoint)\n",
    "bucket_to_delete = boto3.resource('s3').Bucket(bucket_name)\n",
    "bucket_to_delete.objects.all().delete()"
   ]
  },
  {
   "cell_type": "code",
   "execution_count": null,
   "id": "ceeff0a5",
   "metadata": {},
   "outputs": [],
   "source": []
  },
  {
   "cell_type": "code",
   "execution_count": null,
   "id": "1a1f622d",
   "metadata": {},
   "outputs": [],
   "source": []
  },
  {
   "cell_type": "code",
   "execution_count": null,
   "id": "d0c4444c",
   "metadata": {},
   "outputs": [],
   "source": []
  },
  {
   "cell_type": "code",
   "execution_count": null,
   "id": "58786859",
   "metadata": {},
   "outputs": [],
   "source": []
  },
  {
   "cell_type": "code",
   "execution_count": null,
   "id": "d9fb2255",
   "metadata": {},
   "outputs": [],
   "source": []
  },
  {
   "cell_type": "code",
   "execution_count": null,
   "id": "9a6cf482",
   "metadata": {},
   "outputs": [],
   "source": []
  },
  {
   "cell_type": "code",
   "execution_count": null,
   "id": "22b05aac",
   "metadata": {},
   "outputs": [],
   "source": []
  }
 ],
 "metadata": {
  "kernelspec": {
   "display_name": "conda_python3",
   "language": "python",
   "name": "conda_python3"
  },
  "language_info": {
   "codemirror_mode": {
    "name": "ipython",
    "version": 3
   },
   "file_extension": ".py",
   "mimetype": "text/x-python",
   "name": "python",
   "nbconvert_exporter": "python",
   "pygments_lexer": "ipython3",
   "version": "3.10.13"
  }
 },
 "nbformat": 4,
 "nbformat_minor": 5
}
